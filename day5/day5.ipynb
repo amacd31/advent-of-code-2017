{
 "cells": [
  {
   "cell_type": "code",
   "execution_count": 1,
   "metadata": {
    "collapsed": true
   },
   "outputs": [],
   "source": [
    "import numpy as np"
   ]
  },
  {
   "cell_type": "code",
   "execution_count": 39,
   "metadata": {
    "collapsed": false
   },
   "outputs": [
    {
     "name": "stdout",
     "output_type": "stream",
     "text": [
      "325922\n"
     ]
    }
   ],
   "source": [
    "maze = np.loadtxt('maze',dtype=np.int).tolist()\n",
    "#maze = [0,3,0,1,-3]\n",
    "\n",
    "pos = 0\n",
    "count = 0\n",
    "while pos < len(maze) and pos >=0:\n",
    "\n",
    "    offset = maze[pos]\n",
    "    maze[pos] += 1\n",
    "    pos = pos + offset\n",
    "    count += 1\n",
    "\n",
    "print(count)"
   ]
  },
  {
   "cell_type": "code",
   "execution_count": 41,
   "metadata": {
    "collapsed": false
   },
   "outputs": [
    {
     "name": "stdout",
     "output_type": "stream",
     "text": [
      "24490906\n"
     ]
    }
   ],
   "source": [
    "maze = np.loadtxt('maze',dtype=np.int).tolist()\n",
    "#maze = [0,3,0,1,-3]\n",
    "\n",
    "pos = 0\n",
    "count = 0\n",
    "while pos < len(maze) and pos >=0:\n",
    "\n",
    "    offset = maze[pos]\n",
    "    if offset >= 3:\n",
    "        maze[pos] -= 1\n",
    "    else:\n",
    "        maze[pos] += 1\n",
    "    pos = pos + offset\n",
    "    count += 1\n",
    "\n",
    "print(count)\n"
   ]
  },
  {
   "cell_type": "code",
   "execution_count": null,
   "metadata": {
    "collapsed": true
   },
   "outputs": [],
   "source": []
  }
 ],
 "metadata": {
  "anaconda-cloud": {},
  "kernelspec": {
   "display_name": "Python [conda root]",
   "language": "python",
   "name": "conda-root-py"
  },
  "language_info": {
   "codemirror_mode": {
    "name": "ipython",
    "version": 3
   },
   "file_extension": ".py",
   "mimetype": "text/x-python",
   "name": "python",
   "nbconvert_exporter": "python",
   "pygments_lexer": "ipython3",
   "version": "3.5.2"
  }
 },
 "nbformat": 4,
 "nbformat_minor": 1
}
