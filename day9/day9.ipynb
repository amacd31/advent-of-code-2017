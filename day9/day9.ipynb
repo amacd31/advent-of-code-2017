{
 "cells": [
  {
   "cell_type": "code",
   "execution_count": 1,
   "metadata": {
    "collapsed": true
   },
   "outputs": [],
   "source": [
    "garbage_strings = [\n",
    "    (\"<>\", 0),# empty garbage.\n",
    "    (\"<random characters>\",17),# garbage containing random characters.\n",
    "    (\"<<<<>\",3),# because the extra < are ignored.\n",
    "    (\"<{!>}>\",2),# because the first > is canceled.\n",
    "    (\"<!!>\",0),# because the second ! is canceled, allowing the > to terminate the garbage.\n",
    "    (\"<!!!>>\",0),# because the second ! and the first > are canceled.\n",
    "    ('<{o\"i!a,<{i<a>',10),# which ends at the first >.\n",
    "]"
   ]
  },
  {
   "cell_type": "code",
   "execution_count": 2,
   "metadata": {
    "collapsed": true
   },
   "outputs": [],
   "source": [
    "sample_strings = [\n",
    "    (\"{}\", 1), # group.\n",
    "    (\"{{{}}}\", 3), # groups.\n",
    "    (\"{{},{}}\", 3), # groups.\n",
    "    (\"{{{},{},{{}}}}\", 6), # groups.\n",
    "    (\"{<{},{},{{}}>}\", 1), # group (which itself contains garbage).\n",
    "    (\"{<a>,<a>,<a>,<a>}\", 1), # group.\n",
    "    (\"{{<a>},{<a>},{<a>},{<a>}}\", 5), # groups.\n",
    "    (\"{{<!>},{<!>},{<!>},{<a>}}\", 2), # groups (since all but the last > are canceled).\n",
    "    (\"{!!{!!}}\", 2)\n",
    "]"
   ]
  },
  {
   "cell_type": "code",
   "execution_count": 3,
   "metadata": {
    "collapsed": true
   },
   "outputs": [],
   "source": [
    "from anytree import Node, RenderTree"
   ]
  },
  {
   "cell_type": "code",
   "execution_count": 4,
   "metadata": {
    "collapsed": false
   },
   "outputs": [],
   "source": [
    "def count_groups(stream):\n",
    "    root = Node('root')\n",
    "    node_stack = [root]\n",
    "    \n",
    "    state = None\n",
    "    cancel_next = False\n",
    "    group_num = 0\n",
    "    for char in stream:\n",
    "        if cancel_next:\n",
    "            cancel_next = False\n",
    "            continue\n",
    "\n",
    "        if char == '!':\n",
    "            cancel_next = True\n",
    "            continue\n",
    "        elif char == '>':\n",
    "            state = 'END_GARBAGE'\n",
    "            continue\n",
    "        elif state == 'START_GARBAGE':\n",
    "            continue\n",
    "        elif char == '{':\n",
    "            state = 'START_GROUP'\n",
    "            node_stack.append(Node('group%s'%group_num, parent=node_stack[-1]))\n",
    "            group_num +=1\n",
    "        elif char == '}':\n",
    "            state = 'END_GROUP'\n",
    "            node_stack.pop()\n",
    "        elif char == '<':\n",
    "            state = 'START_GARBAGE'\n",
    "        else:\n",
    "            state = 'OTHER_CHAR'\n",
    "    \n",
    "        \n",
    "    return root\n"
   ]
  },
  {
   "cell_type": "code",
   "execution_count": 5,
   "metadata": {
    "collapsed": false
   },
   "outputs": [],
   "source": [
    "def count_children(root):\n",
    "    child_count = len(root.children)\n",
    "    for child in root.children:\n",
    "        child_count += count_children(child)\n",
    "        \n",
    "    return child_count"
   ]
  },
  {
   "cell_type": "code",
   "execution_count": 7,
   "metadata": {
    "collapsed": false
   },
   "outputs": [
    {
     "name": "stdout",
     "output_type": "stream",
     "text": [
      "Node('/root')\n",
      "└── Node('/root/group0')\n",
      "    └── Node('/root/group0/group1')\n"
     ]
    }
   ],
   "source": [
    "root = count_groups(sample_strings[-2][0])\n",
    "print(RenderTree(root))"
   ]
  },
  {
   "cell_type": "code",
   "execution_count": 10,
   "metadata": {
    "collapsed": false
   },
   "outputs": [
    {
     "name": "stdout",
     "output_type": "stream",
     "text": [
      "1 1\n",
      "3 3\n",
      "3 3\n",
      "6 6\n",
      "1 1\n",
      "1 1\n",
      "5 5\n",
      "2 2\n",
      "2 2\n"
     ]
    }
   ],
   "source": [
    "for sample_string in sample_strings:\n",
    "    print(count_children(count_groups(sample_string[0])), sample_string[1])\n",
    "    assert count_children(count_groups(sample_string[0])) == sample_string[1]\n"
   ]
  },
  {
   "cell_type": "code",
   "execution_count": 11,
   "metadata": {
    "collapsed": false
   },
   "outputs": [],
   "source": [
    "def get_score(root, depth, score):\n",
    "\n",
    "    if len(root.children) == 0:\n",
    "        return depth\n",
    "    else:\n",
    "        score = []\n",
    "        for child in root.children:\n",
    "            s = get_score(child, depth + 1, score)\n",
    "\n",
    "            if type(s) == int:\n",
    "                score = score + [s]\n",
    "            else:\n",
    "                score += s\n",
    "\n",
    "    return depth, score"
   ]
  },
  {
   "cell_type": "code",
   "execution_count": 12,
   "metadata": {
    "collapsed": false
   },
   "outputs": [],
   "source": [
    "l = get_score(root.children[0], 1, [])"
   ]
  },
  {
   "cell_type": "code",
   "execution_count": 13,
   "metadata": {
    "collapsed": false
   },
   "outputs": [],
   "source": [
    "def nested_sum(l):\n",
    "    total = 0\n",
    "    for i in l:\n",
    "        if isinstance(i, list):\n",
    "            total += nested_sum(i)\n",
    "        else:\n",
    "            total += i\n",
    "    return total"
   ]
  },
  {
   "cell_type": "code",
   "execution_count": 14,
   "metadata": {
    "collapsed": false
   },
   "outputs": [],
   "source": [
    "with open('data') as f:\n",
    "    data = f.read()"
   ]
  },
  {
   "cell_type": "code",
   "execution_count": 15,
   "metadata": {
    "collapsed": false
   },
   "outputs": [
    {
     "data": {
      "text/plain": [
       "21037"
      ]
     },
     "execution_count": 15,
     "metadata": {},
     "output_type": "execute_result"
    }
   ],
   "source": [
    "nested_sum(get_score(count_groups(data).children[0], 1, []))"
   ]
  },
  {
   "cell_type": "code",
   "execution_count": null,
   "metadata": {
    "collapsed": true
   },
   "outputs": [],
   "source": []
  }
 ],
 "metadata": {
  "anaconda-cloud": {},
  "kernelspec": {
   "display_name": "Python [conda root]",
   "language": "python",
   "name": "conda-root-py"
  },
  "language_info": {
   "codemirror_mode": {
    "name": "ipython",
    "version": 3
   },
   "file_extension": ".py",
   "mimetype": "text/x-python",
   "name": "python",
   "nbconvert_exporter": "python",
   "pygments_lexer": "ipython3",
   "version": "3.5.2"
  }
 },
 "nbformat": 4,
 "nbformat_minor": 1
}
