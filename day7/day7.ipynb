{
 "cells": [
  {
   "cell_type": "code",
   "execution_count": 1,
   "metadata": {
    "collapsed": true
   },
   "outputs": [],
   "source": [
    "from anytree import Node, RenderTree"
   ]
  },
  {
   "cell_type": "code",
   "execution_count": 2,
   "metadata": {
    "collapsed": true
   },
   "outputs": [],
   "source": [
    "weights = {\n",
    "    'pbga': 66,\n",
    "    'xhth': 57,\n",
    "    'ebii': 61,\n",
    "    'havc': 66,\n",
    "    'ktlj': 57,\n",
    "    'fwft': 72,\n",
    "    'qoyq': 66,\n",
    "    'padx': 45,\n",
    "    'tknk': 41,\n",
    "    'jptl': 61,\n",
    "    'ugml': 68,\n",
    "    'gyxo': 61,\n",
    "    'cntj': 57\n",
    "}\n",
    "\n",
    "data = {\n",
    "    'pbga': [],\n",
    "    'xhth': [],\n",
    "    'ebii': [],\n",
    "    'havc': [],\n",
    "    'ktlj': [],\n",
    "    'fwft': ['ktlj', 'cntj', 'xhth'],\n",
    "    'qoyq': [],\n",
    "    'padx': ['pbga', 'havc', 'qoyq'],\n",
    "    'tknk': ['ugml', 'padx', 'fwft'],\n",
    "    'jptl': [],\n",
    "    'ugml': ['gyxo', 'ebii', 'jptl'],\n",
    "    'gyxo': [],\n",
    "    'cntj': [],\n",
    "}"
   ]
  },
  {
   "cell_type": "code",
   "execution_count": 3,
   "metadata": {
    "collapsed": false
   },
   "outputs": [],
   "source": [
    "data = {}\n",
    "weights = {}\n",
    "with open('data') as f:\n",
    "    for line in f.readlines():\n",
    "        line = line.strip()\n",
    "        try:\n",
    "            line.index(' -> ')\n",
    "            key, children = line.split(' -> ')\n",
    "            children = children.split(', ')\n",
    "        except ValueError:\n",
    "            key = line\n",
    "            children = []\n",
    "        key, weight = key.split()\n",
    "        weight = int(weight.strip('()'))\n",
    "\n",
    "        weights[key] = weight\n",
    "        data[key] = children"
   ]
  },
  {
   "cell_type": "code",
   "execution_count": 4,
   "metadata": {
    "collapsed": true
   },
   "outputs": [],
   "source": [
    "def find_children(child, data):\n",
    "    try:\n",
    "        return { k: v for k,v in data.items() if v and k == child}[child]\n",
    "    except KeyError:\n",
    "        return []\n"
   ]
  },
  {
   "cell_type": "code",
   "execution_count": 5,
   "metadata": {
    "collapsed": false
   },
   "outputs": [],
   "source": [
    "def get_tree(k, data):\n",
    "    root = Node(k)\n",
    "    for child in find_children(k, data):\n",
    "        Node(child, parent=root)\n",
    "    return root"
   ]
  },
  {
   "cell_type": "code",
   "execution_count": 6,
   "metadata": {
    "collapsed": false
   },
   "outputs": [],
   "source": [
    "nodes = {}\n",
    "for k in data.keys():\n",
    "    if k not in nodes:\n",
    "        nodes[k] = get_tree(k, data)"
   ]
  },
  {
   "cell_type": "code",
   "execution_count": 7,
   "metadata": {
    "collapsed": true
   },
   "outputs": [],
   "source": [
    "for k,v in data.items():\n",
    "    if v:\n",
    "        nodes[k].children = [ nodes[c] for c in v]\n",
    "        data[k] = []"
   ]
  },
  {
   "cell_type": "code",
   "execution_count": 8,
   "metadata": {
    "collapsed": false
   },
   "outputs": [
    {
     "data": {
      "text/plain": [
       "'svugo'"
      ]
     },
     "execution_count": 8,
     "metadata": {},
     "output_type": "execute_result"
    }
   ],
   "source": [
    "nodes[k].root.name"
   ]
  },
  {
   "cell_type": "code",
   "execution_count": 9,
   "metadata": {
    "collapsed": false
   },
   "outputs": [],
   "source": [
    "root = nodes[nodes[k].root.name]"
   ]
  },
  {
   "cell_type": "code",
   "execution_count": 10,
   "metadata": {
    "collapsed": false
   },
   "outputs": [],
   "source": [
    "def get_weights(root):\n",
    "    weight = 0\n",
    "    for child in root.children:\n",
    "        weight += get_weights(child)\n",
    "    else:\n",
    "        weight += weights[root.name]\n",
    "\n",
    "    return weight"
   ]
  },
  {
   "cell_type": "code",
   "execution_count": 11,
   "metadata": {
    "collapsed": true
   },
   "outputs": [],
   "source": [
    "from collections import Counter"
   ]
  },
  {
   "cell_type": "code",
   "execution_count": 12,
   "metadata": {
    "collapsed": false
   },
   "outputs": [],
   "source": [
    "def find_odd_one_out(root, nodes):\n",
    "    if nodes is None:\n",
    "        return root, None\n",
    "    balances = {}\n",
    "    count = Counter()\n",
    "    for child in root.children:\n",
    "        weight = get_weights(child)\n",
    "        balances[weight] = child.name\n",
    "        count[weight] +=1\n",
    "    \n",
    "    if len(set(count.values())) <= 1:\n",
    "        return root, None\n",
    "    else:\n",
    "        return find_odd_one_out(nodes[balances[count.most_common()[-1][0]]], nodes)"
   ]
  },
  {
   "cell_type": "code",
   "execution_count": 13,
   "metadata": {
    "collapsed": false
   },
   "outputs": [],
   "source": [
    "c = find_odd_one_out(root, nodes)[0]"
   ]
  },
  {
   "cell_type": "code",
   "execution_count": 14,
   "metadata": {
    "collapsed": false
   },
   "outputs": [],
   "source": [
    "balances = []\n",
    "balances.append(get_weights(c))\n",
    "for sibling in c.siblings:\n",
    "    balances.append(get_weights(sibling))"
   ]
  },
  {
   "cell_type": "code",
   "execution_count": 15,
   "metadata": {
    "collapsed": false
   },
   "outputs": [
    {
     "data": {
      "text/plain": [
       "1152"
      ]
     },
     "execution_count": 15,
     "metadata": {},
     "output_type": "execute_result"
    }
   ],
   "source": [
    "weights[c.name] - (max(balances) - min(balances))"
   ]
  },
  {
   "cell_type": "code",
   "execution_count": null,
   "metadata": {
    "collapsed": true
   },
   "outputs": [],
   "source": []
  }
 ],
 "metadata": {
  "anaconda-cloud": {},
  "kernelspec": {
   "display_name": "Python [conda root]",
   "language": "python",
   "name": "conda-root-py"
  },
  "language_info": {
   "codemirror_mode": {
    "name": "ipython",
    "version": 3
   },
   "file_extension": ".py",
   "mimetype": "text/x-python",
   "name": "python",
   "nbconvert_exporter": "python",
   "pygments_lexer": "ipython3",
   "version": "3.5.2"
  }
 },
 "nbformat": 4,
 "nbformat_minor": 1
}
