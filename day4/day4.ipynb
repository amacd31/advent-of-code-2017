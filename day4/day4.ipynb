{
 "cells": [
  {
   "cell_type": "code",
   "execution_count": 4,
   "metadata": {
    "collapsed": false
   },
   "outputs": [],
   "source": [
    "phrases = [\"aa bb cc dd ee\", # is valid.\n",
    "\"aa bb cc dd aa\", # is not valid - the word aa appears more than once.\n",
    "\"aa bb cc dd aaa\"] # is valid - aa and aaa count as different words.\n",
    "\n",
    "from collections import Counter\n",
    "\n",
    "valid = 0\n",
    "invalid = 0\n",
    "\n",
    "with open('passphrases') as phrases:\n",
    "\n",
    "    for phrase in phrases.readlines():\n",
    "        count = Counter()\n",
    "        for word in phrase.split():\n",
    "            count[word] += 1\n",
    "        if max(count.values()) > 1:\n",
    "            invalid += 1\n",
    "        else:\n",
    "            valid += 1"
   ]
  },
  {
   "cell_type": "code",
   "execution_count": 5,
   "metadata": {
    "collapsed": false,
    "scrolled": false
   },
   "outputs": [
    {
     "name": "stdout",
     "output_type": "stream",
     "text": [
      "386\n"
     ]
    }
   ],
   "source": [
    "print(valid)"
   ]
  },
  {
   "cell_type": "markdown",
   "metadata": {},
   "source": [
    "# Part 2"
   ]
  },
  {
   "cell_type": "code",
   "execution_count": 35,
   "metadata": {
    "collapsed": false
   },
   "outputs": [],
   "source": [
    "phrases = [\"aa bb cc dd ee\", # is valid.\n",
    "\"aa bb cc dd aa\", # is not valid - the word aa appears more than once.\n",
    "\"aa bb cc dd aaa\"] # is valid - aa and aaa count as different words.\n",
    "\n",
    "from collections import Counter\n",
    "\n",
    "valid = 0\n",
    "invalid = 0\n",
    "\n",
    "with open('passphrases') as phrases:\n",
    "\n",
    "    for phrase in phrases.readlines():\n",
    "        count = Counter()\n",
    "        sorted_word_count = Counter()\n",
    "        words = phrase.split()\n",
    "        \n",
    "        for word in words:\n",
    "            count[word] += 1\n",
    "            sorted_word_count[''.join(sorted(word))] += 1\n",
    "\n",
    "        if max(count.values()) > 1 or max(sorted_word_count.values()) > 1:\n",
    "            invalid += 1\n",
    "        else:\n",
    "            valid += 1"
   ]
  },
  {
   "cell_type": "code",
   "execution_count": 37,
   "metadata": {
    "collapsed": false
   },
   "outputs": [
    {
     "name": "stdout",
     "output_type": "stream",
     "text": [
      "208\n"
     ]
    }
   ],
   "source": [
    "print(valid)"
   ]
  },
  {
   "cell_type": "code",
   "execution_count": null,
   "metadata": {
    "collapsed": true
   },
   "outputs": [],
   "source": []
  }
 ],
 "metadata": {
  "anaconda-cloud": {},
  "kernelspec": {
   "display_name": "Python [conda root]",
   "language": "python",
   "name": "conda-root-py"
  },
  "language_info": {
   "codemirror_mode": {
    "name": "ipython",
    "version": 3
   },
   "file_extension": ".py",
   "mimetype": "text/x-python",
   "name": "python",
   "nbconvert_exporter": "python",
   "pygments_lexer": "ipython3",
   "version": "3.5.2"
  }
 },
 "nbformat": 4,
 "nbformat_minor": 1
}
